{
 "cells": [
  {
   "cell_type": "markdown",
   "id": "7f0150eb",
   "metadata": {},
   "source": [
    "# **GeoNLP REPO:\n",
    "\n",
    "Extracting Geographical Insights from Unstructured Text**"
   ]
  },
  {
   "cell_type": "markdown",
   "id": "562f0b19",
   "metadata": {},
   "source": [
    "## NoteNotebook 1. webScraping2Map\n",
    "\n",
    "Code Summary / Resumen del Código\n",
    "\n",
    "**ENGLISH:**\n",
    "\n",
    "This Jupyter Notebook contains a Python script for web scraping, text processing with spaCy, and geocoding location entities to display them on a Folium map. It also provides the option remove false positives and to export the map data to a shapefile and create a zip archive.\n",
    "\n",
    "**SPANISH:**\n",
    "\n",
    "Este cuaderno de Jupyter contiene un script en Python para realizar web scraping, procesamiento de texto con spaCy y geocodificación de entidades de ubicación para mostrarlas en un mapa de Folium. También proporciona la opción para remover falsos positivos y de exportar los datos del mapa a un archivo shapefile y crear un archivo zip."
   ]
  },
  {
   "cell_type": "markdown",
   "id": "bee90488",
   "metadata": {},
   "source": [
    "**Celda 1: Import necessary libraries / Celda 1: Importar bibliotecas necesarias**\n",
    "\n",
    "**ENGLISH:**\n",
    "In this cell, necessary libraries are imported, including requests, BeautifulSoup, spaCy, pandas, and more.\n",
    "\n",
    "**SPANISH:**\n",
    "En esta celda, se importan las bibliotecas necesarias, incluyendo requests, BeautifulSoup, spaCy, pandas y más.\n"
   ]
  },
  {
   "cell_type": "code",
   "execution_count": null,
   "id": "302ec0d2",
   "metadata": {},
   "outputs": [],
   "source": [
    "# Celda 1: Importar bibliotecas necesarias (Import necessary libraries)\n",
    "import requests\n",
    "from bs4 import BeautifulSoup\n",
    "import spacy\n",
    "import pandas as pd\n",
    "from IPython.display import display\n",
    "from ipywidgets import Checkbox, Button, VBox, Layout, Output, HTML, GridspecLayout\n",
    "from geopy.geocoders import OpenCage\n",
    "from geopy.exc import GeocoderTimedOut\n",
    "import folium\n",
    "import geopandas as gpd\n",
    "import zipfile\n",
    "import os"
   ]
  },
  {
   "cell_type": "markdown",
   "id": "ca3225c6",
   "metadata": {},
   "source": [
    "**Celda 2: Define checkboxes and doc as global variables / Celda 2: Definir casillas de verificación y doc como variables globales**\n",
    "\n",
    "**ENGLISH:**\n",
    "Global variables for checkboxes and `doc` are defined in this cell.\n",
    "\n",
    "**SPANISH:**\n",
    "Variables globales para casillas de verificación y `doc` se definen en esta celda."
   ]
  },
  {
   "cell_type": "code",
   "execution_count": null,
   "id": "b95b1bb6",
   "metadata": {},
   "outputs": [],
   "source": [
    "# Celda 2: Definir casillas de verificación y doc como variables globales\n",
    "checkboxes = []\n",
    "doc = None\n",
    "location_df = None  # Definir location_df como una variable global (Define location_df as a global variable)"
   ]
  },
  {
   "cell_type": "markdown",
   "id": "d531ac87",
   "metadata": {},
   "source": [
    "**Celda 3: Function to extract the content of a URL / Celda 3: Función para extraer el contenido de una URL**\n",
    "\n",
    "**ENGLISH:**\n",
    "This function, `scrape_url(url)`, extracts the content of a given URL and returns it as text.\n",
    "\n",
    "**SPANISH:**\n",
    "Esta función, `scrape_url(url)`, extrae el contenido de una URL dada y lo devuelve como texto."
   ]
  },
  {
   "cell_type": "code",
   "execution_count": null,
   "id": "81c69629",
   "metadata": {},
   "outputs": [],
   "source": [
    "# Celda 3: Función para extraer el contenido de una URL\n",
    "def scrape_url(url):\n",
    "    try:\n",
    "        print(\"Obteniendo contenido de la URL... (Scraping URL...)\")\n",
    "        response = requests.get(url)\n",
    "        response.raise_for_status()\n",
    "        html_content = response.content\n",
    "        soup = BeautifulSoup(html_content, \"html.parser\")\n",
    "        paragraphs = soup.find_all(\"p\")\n",
    "        return \"\\n\".join([p.text for p in paragraphs])\n",
    "    except requests.RequestException as e:\n",
    "        print(f\"Error al obtener la URL: {e}\")\n",
    "        return \"\""
   ]
  },
  {
   "cell_type": "markdown",
   "id": "c6b4def8",
   "metadata": {},
   "source": [
    "**Celda 4: Function to process text with spaCy based on language / Celda 4: Función para procesar texto con spaCy según el idioma**\n",
    "\n",
    "**ENGLISH:**\n",
    "The `process_text_with_spacy(text, language)` function processes text using spaCy based on the specified language ('en' or 'es').\n",
    "\n",
    "**SPANISH:**\n",
    "La función `process_text_with_spacy(text, language)` procesa el texto utilizando spaCy según el idioma especificado ('en' o 'es')."
   ]
  },
  {
   "cell_type": "code",
   "execution_count": null,
   "id": "8a96f9b5",
   "metadata": {},
   "outputs": [],
   "source": [
    "# Celda 4: Función para procesar texto con spaCy según el idioma\n",
    "def process_text_with_spacy(text, language):\n",
    "    try:\n",
    "        print(\"Procesando texto con spaCy... (Processing text with spaCy...)\")\n",
    "        instructions_en = \"Por favor, seleccione las entidades de ubicación para mostrar en el mapa. (Please select location entities to display on the map.)\"\n",
    "        instructions_es = \"Language not supported. Please choose 'en' or 'es'.\"\n",
    "        \n",
    "        if language.lower() == 'en':\n",
    "            nlp = spacy.load('en_core_web_sm')\n",
    "            instructions = instructions_en\n",
    "        elif language.lower() == 'es':\n",
    "            nlp = spacy.load('es_core_news_sm')\n",
    "            instructions = instructions_es\n",
    "        else:\n",
    "            print(\"Idioma no compatible. Por favor, elija 'en' o 'es'. (Language not supported. Please choose 'en' or 'es'.)\")\n",
    "            return None\n",
    "\n",
    "        print(instructions)\n",
    "        return nlp(text)\n",
    "    except Exception as e:\n",
    "        print(f\"Error al procesar el texto con spaCy: {e}\")\n",
    "        return None"
   ]
  },
  {
   "cell_type": "markdown",
   "id": "8d6f011c",
   "metadata": {},
   "source": [
    "**Celda 5: Function to display text with interactive checkboxes / Celda 5: Función para mostrar texto con casillas de verificación interactivas**\n",
    "\n",
    "**ENGLISH:**\n",
    "This function, `display_text_with_interactive_checkboxes(text, entity_info)`, displays text with interactive checkboxes for location entities.\n",
    "\n",
    "**SPANISH:**\n",
    "Esta función, `display_text_with_interactive_checkboxes(text, entity_info)`, muestra el texto con casillas de verificación interactivas para las entidades de ubicación."
   ]
  },
  {
   "cell_type": "code",
   "execution_count": null,
   "id": "e92eaed2",
   "metadata": {},
   "outputs": [],
   "source": [
    "# Celda 5: Función para mostrar texto con casillas de verificación interactivas\n",
    "def display_text_with_interactive_checkboxes(text, entity_info):\n",
    "    items = []\n",
    "\n",
    "    for start, end, label, entity_text in entity_info:\n",
    "        checkbox = Checkbox(value=True, description=entity_text, disabled=False)\n",
    "        checkboxes.append(checkbox)\n",
    "        items.append(checkbox)\n",
    "\n",
    "    original_text_output = Output(layout=Layout(height='100%', overflow='auto'))\n",
    "    with original_text_output:\n",
    "        display(HTML(f\"<p>{text}</p>\"))\n",
    "\n",
    "    checkboxes_output = VBox(items, layout=Layout(height='100%', overflow='auto'))\n",
    "    return checkboxes, original_text_output, checkboxes_output"
   ]
  },
  {
   "cell_type": "markdown",
   "id": "68dbac97",
   "metadata": {},
   "source": [
    "**Celda 6: Function to handle the confirm button click / Celda 6: Función para manejar el clic del botón de confirmación**\n",
    "\n",
    "**ENGLISH:**\n",
    "The `on_confirm_click(change)` function handles the click event of the confirmation button, displaying selected location entities and a Folium map.\n",
    "\n",
    "**SPANISH:**\n",
    "La función `on_confirm_click(change)` maneja el evento de clic en el botón de confirmación, mostrando las entidades de ubicación seleccionadas y un mapa de Folium."
   ]
  },
  {
   "cell_type": "code",
   "execution_count": null,
   "id": "d5ae9ea9",
   "metadata": {},
   "outputs": [],
   "source": [
    "# Celda 6: Función para manejar el clic del botón de confirmación\n",
    "def on_confirm_click(change):\n",
    "    global doc, location_df\n",
    "\n",
    "    checked_ents = [box.description for box in checkboxes if box.value]\n",
    "    df = pd.DataFrame({'Ubicación': checked_ents})\n",
    "    display(df)\n",
    "\n",
    "    # Geocodificar ubicaciones y mostrar el mapa de Folium\n",
    "    locs = list(set([ent.text for ent in doc.ents if ent.label_ == 'LOC']))\n",
    "    location_df = geocode_locations(locs)\n",
    "    folium_map = create_folium_map(location_df)\n",
    "    display(folium_map)\n",
    "\n",
    "    # Exportar el mapa a un shapefile y crear un archivo zip\n",
    "    if location_df is not None:\n",
    "        output_shapefile = 'map_data.shp'\n",
    "        output_zip = 'map_data.zip'\n",
    "        export_to_shapefile_and_zip(location_df, output_shapefile, output_zip)\n",
    "    else:\n",
    "        print(\"Datos de ubicación no disponibles para exportar. (Location data not available for export.)\")"
   ]
  },
  {
   "cell_type": "markdown",
   "id": "34ddab9e",
   "metadata": {},
   "source": [
    "**Celda 7: Function to geocode locations / Celda 7: Función para geocodificar ubicaciones**\n",
    "\n",
    "**ENGLISH:**\n",
    "This function, `geocode_locations(locs)`, geocodes location names using the OpenCage Geocoder.\n",
    "\n",
    "**SPANISH:**\n",
    "Esta función, `geocode_locations(locs)`, geocodifica nombres de ubicaciones utilizando el Geocodificador OpenCage."
   ]
  },
  {
   "cell_type": "code",
   "execution_count": null,
   "id": "c9b27413",
   "metadata": {},
   "outputs": [],
   "source": [
    "# Celda 7: Función para geocodificar ubicaciones\n",
    "def geocode_locations(locs):\n",
    "    df = pd.DataFrame(columns=['lugar', 'latitud', 'longitud'])\n",
    "    geolocator = OpenCage(api_key='YOUR_API_KEY')\n",
    "\n",
    "    for place in locs:\n",
    "        try:\n",
    "            print(f\"Geocodificando ubicación: {place}... (Geocoding location: {place}...)\")\n",
    "            location = geolocator.geocode(place, timeout=10)\n",
    "        except GeocoderTimedOut:\n",
    "            print(\"Tiempo de espera agotado para el lugar: {}\".format(place))\n",
    "            continue\n",
    "\n",
    "        if location is not None:\n",
    "            latitude = location.latitude\n",
    "            longitude = location.longitude\n",
    "            new_row = pd.DataFrame({'lugar': [place], 'latitud': [latitude], 'longitud': [longitude]})\n",
    "            df = pd.concat([df, new_row], ignore_index=True)\n",
    "\n",
    "    return df"
   ]
  },
  {
   "cell_type": "markdown",
   "id": "729f50df",
   "metadata": {},
   "source": [
    "**Celda 8: Function to create a Folium map / Celda 8: Función para crear un mapa de Folium**\n",
    "\n",
    "**ENGLISH:**\n",
    "The `create_folium_map(df)` function creates a Folium map based on the provided DataFrame of location data.\n",
    "\n",
    "**SPANISH:**\n",
    "La función `create_folium_map(df)` crea un mapa de Folium basado en el DataFrame proporcionado de datos de ubicación."
   ]
  },
  {
   "cell_type": "code",
   "execution_count": null,
   "id": "fbd8e1c2",
   "metadata": {},
   "outputs": [],
   "source": [
    "# Celda 8: Función para crear un mapa de Folium\n",
    "def create_folium_map(df):\n",
    "    center_lat = df['latitud'].mean()\n",
    "    center_long = df['longitud'].mean()\n",
    "    m = folium.Map(location=[center_lat, center_long], zoom_start=1)\n",
    "\n",
    "    for i, row in df.iterrows():\n",
    "        folium.Marker(location=[row['latitud'], row['longitud']], tooltip=row['lugar']).add_to(m)\n",
    "\n",
    "    return m"
   ]
  },
  {
   "cell_type": "markdown",
   "id": "6d9edbd6",
   "metadata": {},
   "source": [
    "**Celda 9: Function to export the map data to a shapefile and create a zip archive / Celda 9: Función para exportar los datos del mapa a un shapefile y crear un archivo zip**\n",
    "\n",
    "**ENGLISH:**\n",
    "This function, `export_to_shapefile_and_zip(df, output_shapefile, output_zip)`, exports map data to a shapefile and creates a zip archive.\n",
    "\n",
    "**SPANISH:**\n",
    "Esta función, `export_to_shapefile_and_zip(df, output_shapefile, output_zip)`, exporta los datos del mapa a un archivo shapefile y crea un archivo zip.\n"
   ]
  },
  {
   "cell_type": "code",
   "execution_count": null,
   "id": "65ab37c1",
   "metadata": {},
   "outputs": [],
   "source": [
    "# Celda 9: Función para exportar los datos del mapa a un shapefile y crear un archivo zip\n",
    "def export_to_shapefile_and_zip(df, output_shapefile, output_zip):\n",
    "    try:\n",
    "        # Exportar el DataFrame a un shapefile utilizando geopandas\n",
    "        gdf = gpd.GeoDataFrame(df, geometry=gpd.points_from_xy(df['longitud'], df['latitud']))\n",
    "        gdf.to_file(output_shapefile)\n",
    "\n",
    "        # Crear un archivo zip que contiene el shapefile\n",
    "        with zipfile.ZipFile(output_zip, 'w') as zipf:\n",
    "            zipf.write(output_shapefile, os.path.basename(output_shapefile))\n",
    "\n",
    "        print(f\"Shapefile '{output_shapefile}' y archivo zip '{output_zip}' creados exitosamente. (Shapefile '{output_shapefile}' and zip archive '{output_zip}' created successfully.)\")\n",
    "    except Exception as e:\n",
    "        print(f\"Error al exportar datos al shapefile y archivo zip: {e}\")"
   ]
  },
  {
   "cell_type": "markdown",
   "id": "c899f739",
   "metadata": {},
   "source": [
    "**Celda 10: Main function / Celda 10: Función principal**\n",
    "\n",
    "**ENGLISH:**\n",
    "The `main()` function is the main entry point of the script, where the user is prompted to input a URL and language, and the entire workflow is executed.\n",
    "\n",
    "**SPANISH:**\n",
    "La función `main()` es el punto de entrada principal del script, donde se le solicita al usuario que ingrese una URL y un idioma, y se ejecuta todo el flujo de trabajo."
   ]
  },
  {
   "cell_type": "code",
   "execution_count": null,
   "id": "8fa8ef61",
   "metadata": {},
   "outputs": [],
   "source": [
    "# Celda 10: Función principal (Main function)\n",
    "def main():\n",
    "    global doc, location_df\n",
    "\n",
    "    # Solicitar la URL al usuario (Ask the user for the URL)\n",
    "    url = input(\"Ingrese la URL para hacer scrapping: \")\n",
    "    text = scrape_url(url)\n",
    "    \n",
    "    if text:\n",
    "        # Solicitar el idioma al usuario (Ask the user for the language)\n",
    "        language = input(\"Ingrese el idioma del texto de entrada (en/es): \")\n",
    "        doc = process_text_with_spacy(text, language)\n",
    "        \n",
    "        if doc:\n",
    "            print(\"Texto procesado con éxito. (Text processed successfully.)\")\n",
    "            entity_info = [(ent.start_char, ent.end_char, ent.label_, ent.text) for ent in doc.ents if ent.label_ == 'LOC']\n",
    "            global checkboxes\n",
    "            checkboxes, original_text_output, checkboxes_output = display_text_with_interactive_checkboxes(text, entity_info)\n",
    "\n",
    "            confirm_button = Button(description=\"Confirmar Selecciones (Confirm Selections)\")\n",
    "            confirm_button.on_click(on_confirm_click)\n",
    "\n",
    "            grid = GridspecLayout(1, 2, width='100%')\n",
    "            grid[0, 0] = original_text_output\n",
    "            grid[0, 1] = checkboxes_output\n",
    "\n",
    "            display(VBox([grid, confirm_button]))\n",
    "            print(\"Función ejecutada con éxito. (Function executed successfully.)\")"
   ]
  },
  {
   "cell_type": "markdown",
   "id": "93b489ad",
   "metadata": {},
   "source": [
    "**Celda 11: Usage example in your main function (Cell 10) / Celda 11: Ejemplo de uso en su función principal (Celda 10)**\n",
    "\n",
    "**ENGLISH:**\n",
    "This cell contains an example of how to use the script by calling the `main()` function.\n",
    "\n",
    "**SPANISH:**\n",
    "Esta celda contiene un ejemplo de cómo usar el script llamando a la función `main()`."
   ]
  },
  {
   "cell_type": "code",
   "execution_count": null,
   "id": "e5bc236d",
   "metadata": {},
   "outputs": [],
   "source": [
    "# Celda 11: Ejemplo de uso en su función principal (Celda 10) (Usage example in your main function (Cell 10))\n",
    "if __name__ == \"__main__\":\n",
    "    main()"
   ]
  }
 ],
 "metadata": {
  "kernelspec": {
   "display_name": "Python 3 (ipykernel)",
   "language": "python",
   "name": "python3"
  },
  "language_info": {
   "codemirror_mode": {
    "name": "ipython",
    "version": 3
   },
   "file_extension": ".py",
   "mimetype": "text/x-python",
   "name": "python",
   "nbconvert_exporter": "python",
   "pygments_lexer": "ipython3",
   "version": "3.10.8"
  }
 },
 "nbformat": 4,
 "nbformat_minor": 5
}
